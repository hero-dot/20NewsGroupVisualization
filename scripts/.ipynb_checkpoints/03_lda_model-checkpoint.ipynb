{
 "cells": [
  {
   "cell_type": "code",
   "execution_count": 2,
   "metadata": {
    "collapsed": true
   },
   "outputs": [],
   "source": [
    "from gensim import corpora, models\n",
    "import pandas as pd"
   ]
  },
  {
   "cell_type": "code",
   "execution_count": 5,
   "metadata": {
    "collapsed": false
   },
   "outputs": [],
   "source": [
    "dic = corpora.Dictionary.load('data/model/newsgroups.dict')\n",
    "corp = corpora.MmCorpus('data/model/newsgroups.mm')"
   ]
  },
  {
   "cell_type": "code",
   "execution_count": 6,
   "metadata": {
    "collapsed": false
   },
   "outputs": [
    {
     "name": "stderr",
     "output_type": "stream",
     "text": [
      "\n",
      "KeyboardInterrupt\n"
     ]
    }
   ],
   "source": [
    "lda = models.ldamodel.LdaModel(corpus=corp, id2word=dic, num_topics=50, passes=10)\n",
    "lda.save('data/model/newsgroups_50.model')"
   ]
  },
  {
   "cell_type": "code",
   "execution_count": null,
   "metadata": {
    "collapsed": false
   },
   "outputs": [],
   "source": [
    "dic.get(lda.get_topic_terms(25)[0][0]).split('/')[0]"
   ]
  },
  {
   "cell_type": "code",
   "execution_count": 7,
   "metadata": {
    "collapsed": true
   },
   "outputs": [],
   "source": [
    "lda = models.ldamodel.LdaModel.load('data/model/newsgroups_50.model')"
   ]
  },
  {
   "cell_type": "code",
   "execution_count": 28,
   "metadata": {
    "collapsed": false
   },
   "outputs": [
    {
     "data": {
      "text/plain": [
       "[[[u'president', 0.016302573626616312],\n",
       "  [u'time', 0.012576312646333805],\n",
       "  [u'year', 0.011553326955242959],\n",
       "  [u'stephanopoulos', 0.010161623874103824],\n",
       "  [u'know', 0.0098492406357793914],\n",
       "  [u'make', 0.0092011032246377255],\n",
       "  [u'administration', 0.0084180191378841508],\n",
       "  [u'last', 0.0081372551939864046],\n",
       "  [u'think', 0.0071105624089602996],\n",
       "  [u'week', 0.0065466736677102025]],\n",
       " [[u'turkey', 0.076060296555864132],\n",
       "  [u'western', 0.053663431959594471],\n",
       "  [u'post', 0.030249719888350013],\n",
       "  [u'university', 0.0288799089353837],\n",
       "  [u'reserve', 0.028670011024176739],\n",
       "  [u'case', 0.023561746537106791],\n",
       "  [u'host', 0.023558555196179783],\n",
       "  [u'article', 0.023149617806228952],\n",
       "  [u'nntp', 0.02307902865364066],\n",
       "  [u'cleveland', 0.019696998522629055]],\n",
       " [[u'turkish', 0.073964367632544561],\n",
       "  [u'security', 0.040520171490471532],\n",
       "  [u'privacy', 0.029517540157007863],\n",
       "  [u'part', 0.01892541231723378],\n",
       "  [u'henrik', 0.015199942991108049],\n",
       "  [u'libertarian', 0.01396847347111098],\n",
       "  [u'public', 0.012647499167638087],\n",
       "  [u'event', 0.011002957761877675],\n",
       "  [u'message', 0.010765903861642839],\n",
       "  [u'ripem', 0.0099868071005562546]],\n",
       " [[u'season', 0.061145514084754597],\n",
       "  [u'peter', 0.032410993558459535],\n",
       "  [u'zone', 0.029931403935705987],\n",
       "  [u'lead', 0.021825812857897451],\n",
       "  [u'master', 0.021339686904191992],\n",
       "  [u'cover', 0.020258931106443862],\n",
       "  [u'slave', 0.018756975961374912],\n",
       "  [u'good', 0.016804080861229812],\n",
       "  [u'montreal', 0.015727591416403792],\n",
       "  [u'john', 0.01508102542110258]],\n",
       " [[u'person', 0.031170532018636305],\n",
       "  [u'know', 0.016125723118195979],\n",
       "  [u'take', 0.01449243359206343],\n",
       "  [u'just', 0.012589777553807625],\n",
       "  [u'time', 0.011736101860833625],\n",
       "  [u'then', 0.01156574472875305],\n",
       "  [u'drug', 0.011424313570992236],\n",
       "  [u'tell', 0.011305969502373321],\n",
       "  [u'kill', 0.010308338638991979],\n",
       "  [u'even', 0.0094641501590106616]]]"
      ]
     },
     "execution_count": 28,
     "metadata": {},
     "output_type": "execute_result"
    }
   ],
   "source": [
    "topic_list_1 = [lda.show_topic(i) for i in range(5)]\n",
    "topic_list_2 = []\n",
    "for topic in topic_list_1:\n",
    "    topic_list_2.append([[term.split('/')[0], prob]for term,prob in topic])\n",
    "topic_list_2"
   ]
  },
  {
   "cell_type": "code",
   "execution_count": 70,
   "metadata": {
    "collapsed": false
   },
   "outputs": [],
   "source": [
    "topic_list = [list(topic[1].split('+'))for topic in \n",
    "              lda.show_topics(num_topics=5, num_words=5,formatted=True)]"
   ]
  },
  {
   "cell_type": "code",
   "execution_count": 30,
   "metadata": {
    "collapsed": false
   },
   "outputs": [],
   "source": [
    "lda_frame = pd.DataFrame(topic_list_2) "
   ]
  },
  {
   "cell_type": "code",
   "execution_count": 31,
   "metadata": {
    "collapsed": false,
    "scrolled": true
   },
   "outputs": [],
   "source": [
    "latex_format = lda_frame.to_latex()"
   ]
  },
  {
   "cell_type": "code",
   "execution_count": 32,
   "metadata": {
    "collapsed": true
   },
   "outputs": [],
   "source": [
    "latex_tabelle = open('data/model/LDA_tabelle.tex','w')"
   ]
  },
  {
   "cell_type": "code",
   "execution_count": 33,
   "metadata": {
    "collapsed": true
   },
   "outputs": [],
   "source": [
    "latex_tabelle.write(latex_format)"
   ]
  },
  {
   "cell_type": "code",
   "execution_count": 34,
   "metadata": {
    "collapsed": true
   },
   "outputs": [],
   "source": [
    "latex_tabelle.close()"
   ]
  }
 ],
 "metadata": {
  "kernelspec": {
   "display_name": "Python 2",
   "language": "python",
   "name": "python2"
  },
  "language_info": {
   "codemirror_mode": {
    "name": "ipython",
    "version": 2
   },
   "file_extension": ".py",
   "mimetype": "text/x-python",
   "name": "python",
   "nbconvert_exporter": "python",
   "pygments_lexer": "ipython2",
   "version": "2.7.11"
  }
 },
 "nbformat": 4,
 "nbformat_minor": 0
}
