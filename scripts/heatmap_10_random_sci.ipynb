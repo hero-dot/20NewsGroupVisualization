{
 "cells": [
  {
   "cell_type": "markdown",
   "metadata": {},
   "source": [
    "# Create a heatmap for 10 random documents"
   ]
  },
  {
   "cell_type": "markdown",
   "metadata": {},
   "source": [
    "Pick 10 random articels for the science group and get their tokens.\n",
    "Use the inference to get the topic document distribution.\n",
    "Create a dataframe containing the topic and the "
   ]
  },
  {
   "cell_type": "code",
   "execution_count": 16,
   "metadata": {
    "collapsed": true
   },
   "outputs": [],
   "source": [
    "from gensim import corpora, models\n",
    "import pandas as pd\n"
   ]
  },
  {
   "cell_type": "code",
   "execution_count": 17,
   "metadata": {
    "collapsed": true
   },
   "outputs": [],
   "source": [
    "dic = corpora.Dictionary.load('data/model/newsgroups.dict')\n",
    "corp = corpora.MmCorpus('data/model/newsgroups.mm')"
   ]
  },
  {
   "cell_type": "code",
   "execution_count": 18,
   "metadata": {
    "collapsed": true
   },
   "outputs": [],
   "source": [
    "lda = models.ldamodel.LdaModel.load('data/model/newsgroups_50.model')"
   ]
  },
  {
   "cell_type": "markdown",
   "metadata": {},
   "source": [
    "Load the tokens for every document"
   ]
  },
  {
   "cell_type": "code",
   "execution_count": 19,
   "metadata": {
    "collapsed": true
   },
   "outputs": [],
   "source": [
    "# get the data from the csv\n",
    "docs = pd.DataFrame.from_csv('data/model/docs.csv')"
   ]
  },
  {
   "cell_type": "code",
   "execution_count": null,
   "metadata": {
    "collapsed": false
   },
   "outputs": [],
   "source": [
    "# pick the first ten articles\n",
    "corp[0:9]"
   ]
  },
  {
   "cell_type": "code",
   "execution_count": 23,
   "metadata": {
    "collapsed": false
   },
   "outputs": [
    {
     "name": "stdout",
     "output_type": "stream",
     "text": [
      "[(4, 0.017665142197851175), (6, 0.011197609536924977), (10, 0.016776043418273979), (17, 0.23385831872564589), (18, 0.020478590170432926), (22, 0.031826454594346118), (28, 0.34550989143889488), (32, 0.012546227243814512), (33, 0.029335415465407327), (39, 0.018031730479935497), (40, 0.032326155944280538), (45, 0.011324082982044849), (46, 0.030944392872217962), (48, 0.071903253568584638)]\n",
      "[(4, 0.087033875316908482), (8, 0.02128015767553168), (16, 0.010267018601232903), (22, 0.01121709000758692), (28, 0.7636404938578425), (32, 0.013330585684430385)]\n"
     ]
    }
   ],
   "source": [
    "for i in corp[0:2]:\n",
    "    print lda[i]"
   ]
  },
  {
   "cell_type": "code",
   "execution_count": null,
   "metadata": {
    "collapsed": true
   },
   "outputs": [],
   "source": []
  }
 ],
 "metadata": {
  "kernelspec": {
   "display_name": "Python 2",
   "language": "python",
   "name": "python2"
  },
  "language_info": {
   "codemirror_mode": {
    "name": "ipython",
    "version": 2
   },
   "file_extension": ".py",
   "mimetype": "text/x-python",
   "name": "python",
   "nbconvert_exporter": "python",
   "pygments_lexer": "ipython2",
   "version": "2.7.11"
  }
 },
 "nbformat": 4,
 "nbformat_minor": 0
}
