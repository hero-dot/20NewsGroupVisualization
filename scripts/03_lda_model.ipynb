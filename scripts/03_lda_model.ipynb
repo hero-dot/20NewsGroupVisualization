{
 "cells": [
  {
   "cell_type": "code",
   "execution_count": null,
   "metadata": {
    "collapsed": true
   },
   "outputs": [],
   "source": [
    "from gensim import corpora, models\n",
    "import pandas as pd\n",
    "import numpy as np"
   ]
  },
  {
   "cell_type": "code",
   "execution_count": null,
   "metadata": {
    "collapsed": false
   },
   "outputs": [],
   "source": [
    "dic = corpora.Dictionary.load('data/model/newsgroups.dict')\n",
    "corp = corpora.MmCorpus('data/model/newsgroups.mm')"
   ]
  },
  {
   "cell_type": "code",
   "execution_count": null,
   "metadata": {
    "collapsed": false
   },
   "outputs": [],
   "source": [
    "lda = models.ldamodel.LdaModel(corpus=corp, id2word=dic, num_topics=50, passes=10)\n",
    "lda.save('data/model/newsgroups_50.model')"
   ]
  },
  {
   "cell_type": "code",
   "execution_count": null,
   "metadata": {
    "collapsed": false
   },
   "outputs": [],
   "source": [
    "dic.get(lda.get_topic_terms(25)[0][0]).split('/')[0]"
   ]
  },
  {
   "cell_type": "code",
   "execution_count": null,
   "metadata": {
    "collapsed": true
   },
   "outputs": [],
   "source": [
    "lda = models.ldamodel.LdaModel.load('data/model/newsgroups_50.model')"
   ]
  },
  {
   "cell_type": "code",
   "execution_count": null,
   "metadata": {
    "collapsed": false
   },
   "outputs": [],
   "source": [
    "topic_list_1 = [lda.show_topic(i,topn=3) for i in range(5)]\n",
    "topic_list_2 = []\n",
    "for topic in topic_list_1:\n",
    "    topic_list_2.append([[term.split('/')[0], prob]for term,prob in topic])\n",
    "topic_list_2"
   ]
  },
  {
   "cell_type": "code",
   "execution_count": null,
   "metadata": {
    "collapsed": false
   },
   "outputs": [],
   "source": [
    "topic_list = [list(topic[1].split('+'))for topic in \n",
    "              lda.show_topics(num_topics=5, num_words=5,formatted=True)]"
   ]
  },
  {
   "cell_type": "code",
   "execution_count": null,
   "metadata": {
    "collapsed": false
   },
   "outputs": [],
   "source": [
    "# save the topic term distribution as a latex list\n",
    "lda_frame = pd.DataFrame(topic_list_2) \n",
    "latex_format = lda_frame.to_latex()\n",
    "latex_tabelle = open('data/model/LDA_tabelle.tex','w')\n",
    "latex_tabelle.write(latex_format)\n",
    "latex_tabelle.close()"
   ]
  },
  {
   "cell_type": "code",
   "execution_count": null,
   "metadata": {
    "collapsed": false
   },
   "outputs": [],
   "source": [
    "# get ten random topics and infer the distribution\n",
    "# create list with 4 random documents out of the whole corpus\n",
    "rand_docs =[corp[i]for i in np.random.random_integers(0,11334,4)]"
   ]
  },
  {
   "cell_type": "code",
   "execution_count": null,
   "metadata": {
    "collapsed": false
   },
   "outputs": [],
   "source": [
    "topic_doc_dist = [lda[doc] for doc in rand_docs]"
   ]
  },
  {
   "cell_type": "code",
   "execution_count": null,
   "metadata": {
    "collapsed": false
   },
   "outputs": [],
   "source": [
    "for doc in topic_doc_dist:\n",
    "    tot_share = 0\n",
    "    for topic, share in doc:\n",
    "        tot_share = tot_share + share\n",
    "    print tot_share"
   ]
  },
  {
   "cell_type": "code",
   "execution_count": null,
   "metadata": {
    "collapsed": false
   },
   "outputs": [],
   "source": [
    "rand_topic_doc = pd.DataFrame(topic_doc_dist).T\n",
    "rand_topic_doc_table = open('data/model/topic_term.tex','w')\n",
    "rand_topic_doc_table.write(rand_topic_doc.to_latex())\n",
    "rand_topic_doc_table.close()"
   ]
  },
  {
   "cell_type": "code",
   "execution_count": null,
   "metadata": {
    "collapsed": true
   },
   "outputs": [],
   "source": []
  }
 ],
 "metadata": {
  "kernelspec": {
   "display_name": "Python 2",
   "language": "python",
   "name": "python2"
  },
  "language_info": {
   "codemirror_mode": {
    "name": "ipython",
    "version": 2
   },
   "file_extension": ".py",
   "mimetype": "text/x-python",
   "name": "python",
   "nbconvert_exporter": "python",
   "pygments_lexer": "ipython2",
   "version": "2.7.11"
  }
 },
 "nbformat": 4,
 "nbformat_minor": 0
}
