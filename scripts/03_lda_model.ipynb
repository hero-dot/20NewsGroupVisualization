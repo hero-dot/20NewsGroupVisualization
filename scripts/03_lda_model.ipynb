{
 "cells": [
  {
   "cell_type": "code",
   "execution_count": 2,
   "metadata": {
    "collapsed": true
   },
   "outputs": [],
   "source": [
    "from gensim import corpora, models\n",
    "import pandas as pd"
   ]
  },
  {
   "cell_type": "code",
   "execution_count": 5,
   "metadata": {
    "collapsed": false
   },
   "outputs": [],
   "source": [
    "dic = corpora.Dictionary.load('data/model/newsgroups.dict')\n",
    "corp = corpora.MmCorpus('data/model/newsgroups.mm')"
   ]
  },
  {
   "cell_type": "code",
   "execution_count": 6,
   "metadata": {
    "collapsed": false
   },
   "outputs": [
    {
     "name": "stderr",
     "output_type": "stream",
     "text": [
      "\n",
      "KeyboardInterrupt\n"
     ]
    }
   ],
   "source": [
    "lda = models.ldamodel.LdaModel(corpus=corp, id2word=dic, num_topics=50, passes=10)\n",
    "lda.save('data/model/newsgroups_50.model')"
   ]
  },
  {
   "cell_type": "code",
   "execution_count": null,
   "metadata": {
    "collapsed": false
   },
   "outputs": [],
   "source": [
    "dic.get(lda.get_topic_terms(25)[0][0]).split('/')[0]"
   ]
  },
  {
   "cell_type": "code",
   "execution_count": 7,
   "metadata": {
    "collapsed": true
   },
   "outputs": [],
   "source": [
    "lda = models.ldamodel.LdaModel.load('data/model/newsgroups_50.model')"
   ]
  },
  {
   "cell_type": "code",
   "execution_count": 35,
   "metadata": {
    "collapsed": false
   },
   "outputs": [
    {
     "data": {
      "text/plain": [
       "[[[u'president', 0.016302573626616312],\n",
       "  [u'time', 0.012576312646333805],\n",
       "  [u'year', 0.011553326955242959]],\n",
       " [[u'turkey', 0.076060296555864132],\n",
       "  [u'western', 0.053663431959594471],\n",
       "  [u'post', 0.030249719888350013]],\n",
       " [[u'turkish', 0.073964367632544561],\n",
       "  [u'security', 0.040520171490471532],\n",
       "  [u'privacy', 0.029517540157007863]],\n",
       " [[u'season', 0.061145514084754597],\n",
       "  [u'peter', 0.032410993558459535],\n",
       "  [u'zone', 0.029931403935705987]],\n",
       " [[u'person', 0.031170532018636305],\n",
       "  [u'know', 0.016125723118195979],\n",
       "  [u'take', 0.01449243359206343]]]"
      ]
     },
     "execution_count": 35,
     "metadata": {},
     "output_type": "execute_result"
    }
   ],
   "source": [
    "topic_list_1 = [lda.show_topic(i,topn=3) for i in range(5)]\n",
    "topic_list_2 = []\n",
    "for topic in topic_list_1:\n",
    "    topic_list_2.append([[term.split('/')[0], prob]for term,prob in topic])\n",
    "topic_list_2"
   ]
  },
  {
   "cell_type": "code",
   "execution_count": 70,
   "metadata": {
    "collapsed": false
   },
   "outputs": [],
   "source": [
    "topic_list = [list(topic[1].split('+'))for topic in \n",
    "              lda.show_topics(num_topics=5, num_words=5,formatted=True)]"
   ]
  },
  {
   "cell_type": "code",
   "execution_count": 36,
   "metadata": {
    "collapsed": false
   },
   "outputs": [],
   "source": [
    "lda_frame = pd.DataFrame(topic_list_2) "
   ]
  },
  {
   "cell_type": "code",
   "execution_count": 37,
   "metadata": {
    "collapsed": false,
    "scrolled": true
   },
   "outputs": [],
   "source": [
    "latex_format = lda_frame.to_latex()"
   ]
  },
  {
   "cell_type": "code",
   "execution_count": 38,
   "metadata": {
    "collapsed": true
   },
   "outputs": [],
   "source": [
    "latex_tabelle = open('data/model/LDA_tabelle.tex','w')"
   ]
  },
  {
   "cell_type": "code",
   "execution_count": 39,
   "metadata": {
    "collapsed": true
   },
   "outputs": [],
   "source": [
    "latex_tabelle.write(latex_format)"
   ]
  },
  {
   "cell_type": "code",
   "execution_count": 40,
   "metadata": {
    "collapsed": true
   },
   "outputs": [],
   "source": [
    "latex_tabelle.close()"
   ]
  },
  {
   "cell_type": "code",
   "execution_count": 41,
   "metadata": {
    "collapsed": false
   },
   "outputs": [
    {
     "name": "stdout",
     "output_type": "stream",
     "text": [
      "Dictionary(17337 unique tokens: [u'afford/VB', u'hold/NN', u'either/NN', u'newton/NN', u'mohammed/JJ']...)\n"
     ]
    }
   ],
   "source": [
    "print dic"
   ]
  }
 ],
 "metadata": {
  "kernelspec": {
   "display_name": "Python 2",
   "language": "python",
   "name": "python2"
  },
  "language_info": {
   "codemirror_mode": {
    "name": "ipython",
    "version": 2
   },
   "file_extension": ".py",
   "mimetype": "text/x-python",
   "name": "python",
   "nbconvert_exporter": "python",
   "pygments_lexer": "ipython2",
   "version": "2.7.11"
  }
 },
 "nbformat": 4,
 "nbformat_minor": 0
}
